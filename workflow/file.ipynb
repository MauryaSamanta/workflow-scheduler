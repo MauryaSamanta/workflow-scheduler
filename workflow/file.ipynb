{
 "cells": [
  {
   "cell_type": "code",
   "execution_count": 1,
   "id": "6ffb4525",
   "metadata": {},
   "outputs": [],
   "source": [
    "import pandas as pd"
   ]
  },
  {
   "cell_type": "code",
   "execution_count": 3,
   "id": "a582b2ac",
   "metadata": {},
   "outputs": [],
   "source": [
    "df=pd.read_csv(\"vms.csv\")\n"
   ]
  },
  {
   "cell_type": "code",
   "execution_count": 4,
   "id": "4c4fa6ab",
   "metadata": {},
   "outputs": [
    {
     "data": {
      "text/plain": [
       "Index(['Name', 'API Name', 'Instance Memory', 'vCPUs', 'Instance Storage',\n",
       "       'Network Performance', 'On Demand', 'Linux Reserved cost',\n",
       "       'Linux Spot Minimum cost', 'Windows On Demand cost',\n",
       "       'Windows Reserved cost'],\n",
       "      dtype='object')"
      ]
     },
     "execution_count": 4,
     "metadata": {},
     "output_type": "execute_result"
    }
   ],
   "source": [
    "df.columns"
   ]
  },
  {
   "cell_type": "code",
   "execution_count": 5,
   "id": "39feff25",
   "metadata": {},
   "outputs": [],
   "source": [
    "columns_to_drop = [\n",
    "    \"Linux Reserved cost\",\n",
    "    \"Linux Spot Minimum cost\",\n",
    "    \"Windows On Demand cost\",\n",
    "    \"Windows Reserved cost\"\n",
    "]\n",
    "df = df.drop(columns=columns_to_drop)"
   ]
  },
  {
   "cell_type": "code",
   "execution_count": 6,
   "id": "c5e5de30",
   "metadata": {},
   "outputs": [
    {
     "data": {
      "application/vnd.microsoft.datawrangler.viewer.v0+json": {
       "columns": [
        {
         "name": "index",
         "rawType": "int64",
         "type": "integer"
        },
        {
         "name": "Name",
         "rawType": "object",
         "type": "string"
        },
        {
         "name": "API Name",
         "rawType": "object",
         "type": "string"
        },
        {
         "name": "Instance Memory",
         "rawType": "object",
         "type": "string"
        },
        {
         "name": "vCPUs",
         "rawType": "object",
         "type": "string"
        },
        {
         "name": "Instance Storage",
         "rawType": "object",
         "type": "string"
        },
        {
         "name": "Network Performance",
         "rawType": "object",
         "type": "string"
        },
        {
         "name": "On Demand",
         "rawType": "object",
         "type": "string"
        }
       ],
       "ref": "23ad1738-017e-45a6-84fb-dffcd73a5514",
       "rows": [
        [
         "0",
         "R6IDN 12xlarge",
         "r6idn.12xlarge",
         "384 GiB",
         "48 vCPUs",
         "2850 GB (2×1425 GB NVMe SSD)",
         "75 Gigabit",
         "$4.6894 hourly"
        ],
        [
         "1",
         "C5N 18xlarge",
         "c5n.18xlarge",
         "192 GiB",
         "72 vCPUs",
         "EBS only",
         "100 Gigabit",
         "$3.8880 hourly"
        ],
        [
         "2",
         "R6ID Eight Extra Large",
         "r6id.8xlarge",
         "256 GiB",
         "32 vCPUs",
         "1900 GB NVMe SSD",
         "12.5 Gigabit",
         "$2.4192 hourly"
        ],
        [
         "3",
         "I3EN 12xlarge",
         "i3en.12xlarge",
         "384 GiB",
         "48 vCPUs",
         "30000 GB (4×7500 GB NVMe SSD)",
         "50 Gigabit",
         "$5.4240 hourly"
        ],
        [
         "4",
         "M6IN Extra Large",
         "m6in.xlarge",
         "16 GiB",
         "4 vCPUs",
         "EBS only",
         "Up to 30 Gigabit",
         "$0.2785 hourly"
        ]
       ],
       "shape": {
        "columns": 7,
        "rows": 5
       }
      },
      "text/html": [
       "<div>\n",
       "<style scoped>\n",
       "    .dataframe tbody tr th:only-of-type {\n",
       "        vertical-align: middle;\n",
       "    }\n",
       "\n",
       "    .dataframe tbody tr th {\n",
       "        vertical-align: top;\n",
       "    }\n",
       "\n",
       "    .dataframe thead th {\n",
       "        text-align: right;\n",
       "    }\n",
       "</style>\n",
       "<table border=\"1\" class=\"dataframe\">\n",
       "  <thead>\n",
       "    <tr style=\"text-align: right;\">\n",
       "      <th></th>\n",
       "      <th>Name</th>\n",
       "      <th>API Name</th>\n",
       "      <th>Instance Memory</th>\n",
       "      <th>vCPUs</th>\n",
       "      <th>Instance Storage</th>\n",
       "      <th>Network Performance</th>\n",
       "      <th>On Demand</th>\n",
       "    </tr>\n",
       "  </thead>\n",
       "  <tbody>\n",
       "    <tr>\n",
       "      <th>0</th>\n",
       "      <td>R6IDN 12xlarge</td>\n",
       "      <td>r6idn.12xlarge</td>\n",
       "      <td>384 GiB</td>\n",
       "      <td>48 vCPUs</td>\n",
       "      <td>2850 GB (2×1425 GB NVMe SSD)</td>\n",
       "      <td>75 Gigabit</td>\n",
       "      <td>$4.6894 hourly</td>\n",
       "    </tr>\n",
       "    <tr>\n",
       "      <th>1</th>\n",
       "      <td>C5N 18xlarge</td>\n",
       "      <td>c5n.18xlarge</td>\n",
       "      <td>192 GiB</td>\n",
       "      <td>72 vCPUs</td>\n",
       "      <td>EBS only</td>\n",
       "      <td>100 Gigabit</td>\n",
       "      <td>$3.8880 hourly</td>\n",
       "    </tr>\n",
       "    <tr>\n",
       "      <th>2</th>\n",
       "      <td>R6ID Eight Extra Large</td>\n",
       "      <td>r6id.8xlarge</td>\n",
       "      <td>256 GiB</td>\n",
       "      <td>32 vCPUs</td>\n",
       "      <td>1900 GB NVMe SSD</td>\n",
       "      <td>12.5 Gigabit</td>\n",
       "      <td>$2.4192 hourly</td>\n",
       "    </tr>\n",
       "    <tr>\n",
       "      <th>3</th>\n",
       "      <td>I3EN 12xlarge</td>\n",
       "      <td>i3en.12xlarge</td>\n",
       "      <td>384 GiB</td>\n",
       "      <td>48 vCPUs</td>\n",
       "      <td>30000 GB (4×7500 GB NVMe SSD)</td>\n",
       "      <td>50 Gigabit</td>\n",
       "      <td>$5.4240 hourly</td>\n",
       "    </tr>\n",
       "    <tr>\n",
       "      <th>4</th>\n",
       "      <td>M6IN Extra Large</td>\n",
       "      <td>m6in.xlarge</td>\n",
       "      <td>16 GiB</td>\n",
       "      <td>4 vCPUs</td>\n",
       "      <td>EBS only</td>\n",
       "      <td>Up to 30 Gigabit</td>\n",
       "      <td>$0.2785 hourly</td>\n",
       "    </tr>\n",
       "  </tbody>\n",
       "</table>\n",
       "</div>"
      ],
      "text/plain": [
       "                     Name        API Name Instance Memory     vCPUs  \\\n",
       "0          R6IDN 12xlarge  r6idn.12xlarge         384 GiB  48 vCPUs   \n",
       "1            C5N 18xlarge    c5n.18xlarge         192 GiB  72 vCPUs   \n",
       "2  R6ID Eight Extra Large    r6id.8xlarge         256 GiB  32 vCPUs   \n",
       "3           I3EN 12xlarge   i3en.12xlarge         384 GiB  48 vCPUs   \n",
       "4        M6IN Extra Large     m6in.xlarge          16 GiB   4 vCPUs   \n",
       "\n",
       "                Instance Storage Network Performance       On Demand  \n",
       "0   2850 GB (2×1425 GB NVMe SSD)          75 Gigabit  $4.6894 hourly  \n",
       "1                       EBS only         100 Gigabit  $3.8880 hourly  \n",
       "2               1900 GB NVMe SSD        12.5 Gigabit  $2.4192 hourly  \n",
       "3  30000 GB (4×7500 GB NVMe SSD)          50 Gigabit  $5.4240 hourly  \n",
       "4                       EBS only    Up to 30 Gigabit  $0.2785 hourly  "
      ]
     },
     "execution_count": 6,
     "metadata": {},
     "output_type": "execute_result"
    }
   ],
   "source": [
    "df.head()"
   ]
  },
  {
   "cell_type": "code",
   "execution_count": 7,
   "id": "8c66a42f",
   "metadata": {},
   "outputs": [
    {
     "data": {
      "application/vnd.microsoft.datawrangler.viewer.v0+json": {
       "columns": [
        {
         "name": "index",
         "rawType": "int64",
         "type": "integer"
        },
        {
         "name": "Instance Memory",
         "rawType": "object",
         "type": "string"
        }
       ],
       "ref": "d1bc5d47-ede4-4af6-8a15-0df10770dc02",
       "rows": [
        [
         "0",
         "384 GiB"
        ],
        [
         "1",
         "192 GiB"
        ],
        [
         "2",
         "256 GiB"
        ],
        [
         "3",
         "384 GiB"
        ],
        [
         "4",
         "16 GiB"
        ],
        [
         "5",
         "4096 GiB"
        ],
        [
         "6",
         "144 GiB"
        ],
        [
         "7",
         "256 GiB"
        ],
        [
         "8",
         "64 GiB"
        ],
        [
         "9",
         "96 GiB"
        ],
        [
         "10",
         "1952 GiB"
        ],
        [
         "11",
         "256 GiB"
        ],
        [
         "12",
         "1024 GiB"
        ],
        [
         "13",
         "122 GiB"
        ],
        [
         "14",
         "32 GiB"
        ],
        [
         "15",
         "128 GiB"
        ],
        [
         "16",
         "2048 GiB"
        ],
        [
         "17",
         "128 GiB"
        ],
        [
         "18",
         "192 GiB"
        ],
        [
         "19",
         "192 GiB"
        ],
        [
         "20",
         "192 GiB"
        ],
        [
         "21",
         "768 GiB"
        ],
        [
         "22",
         "61 GiB"
        ],
        [
         "23",
         "192 GiB"
        ],
        [
         "24",
         "512 GiB"
        ],
        [
         "25",
         "384 GiB"
        ],
        [
         "26",
         "768 GiB"
        ],
        [
         "27",
         "16 GiB"
        ],
        [
         "28",
         "384 GiB"
        ],
        [
         "29",
         "256 GiB"
        ],
        [
         "30",
         "128 GiB"
        ],
        [
         "31",
         "64 GiB"
        ],
        [
         "32",
         "16 GiB"
        ],
        [
         "33",
         "72 GiB"
        ],
        [
         "34",
         "768 GiB"
        ],
        [
         "35",
         "16 GiB"
        ],
        [
         "36",
         "256 GiB"
        ],
        [
         "37",
         "512 GiB"
        ],
        [
         "38",
         "128 GiB"
        ],
        [
         "39",
         "64 GiB"
        ],
        [
         "40",
         "768 GiB"
        ],
        [
         "41",
         "256 GiB"
        ],
        [
         "42",
         "64 GiB"
        ],
        [
         "43",
         "96 GiB"
        ],
        [
         "44",
         "512 GiB"
        ],
        [
         "45",
         "16 GiB"
        ],
        [
         "46",
         "32 GiB"
        ],
        [
         "47",
         "192 GiB"
        ],
        [
         "48",
         "768 GiB"
        ],
        [
         "49",
         "64 GiB"
        ]
       ],
       "shape": {
        "columns": 1,
        "rows": 943
       }
      },
      "text/html": [
       "<div>\n",
       "<style scoped>\n",
       "    .dataframe tbody tr th:only-of-type {\n",
       "        vertical-align: middle;\n",
       "    }\n",
       "\n",
       "    .dataframe tbody tr th {\n",
       "        vertical-align: top;\n",
       "    }\n",
       "\n",
       "    .dataframe thead th {\n",
       "        text-align: right;\n",
       "    }\n",
       "</style>\n",
       "<table border=\"1\" class=\"dataframe\">\n",
       "  <thead>\n",
       "    <tr style=\"text-align: right;\">\n",
       "      <th></th>\n",
       "      <th>Instance Memory</th>\n",
       "    </tr>\n",
       "  </thead>\n",
       "  <tbody>\n",
       "    <tr>\n",
       "      <th>0</th>\n",
       "      <td>384 GiB</td>\n",
       "    </tr>\n",
       "    <tr>\n",
       "      <th>1</th>\n",
       "      <td>192 GiB</td>\n",
       "    </tr>\n",
       "    <tr>\n",
       "      <th>2</th>\n",
       "      <td>256 GiB</td>\n",
       "    </tr>\n",
       "    <tr>\n",
       "      <th>3</th>\n",
       "      <td>384 GiB</td>\n",
       "    </tr>\n",
       "    <tr>\n",
       "      <th>4</th>\n",
       "      <td>16 GiB</td>\n",
       "    </tr>\n",
       "    <tr>\n",
       "      <th>...</th>\n",
       "      <td>...</td>\n",
       "    </tr>\n",
       "    <tr>\n",
       "      <th>938</th>\n",
       "      <td>117 GiB</td>\n",
       "    </tr>\n",
       "    <tr>\n",
       "      <th>939</th>\n",
       "      <td>0.613 GiB</td>\n",
       "    </tr>\n",
       "    <tr>\n",
       "      <th>940</th>\n",
       "      <td>60.5 GiB</td>\n",
       "    </tr>\n",
       "    <tr>\n",
       "      <th>941</th>\n",
       "      <td>768 GiB</td>\n",
       "    </tr>\n",
       "    <tr>\n",
       "      <th>942</th>\n",
       "      <td>128 GiB</td>\n",
       "    </tr>\n",
       "  </tbody>\n",
       "</table>\n",
       "<p>943 rows × 1 columns</p>\n",
       "</div>"
      ],
      "text/plain": [
       "    Instance Memory\n",
       "0           384 GiB\n",
       "1           192 GiB\n",
       "2           256 GiB\n",
       "3           384 GiB\n",
       "4            16 GiB\n",
       "..              ...\n",
       "938         117 GiB\n",
       "939       0.613 GiB\n",
       "940        60.5 GiB\n",
       "941         768 GiB\n",
       "942         128 GiB\n",
       "\n",
       "[943 rows x 1 columns]"
      ]
     },
     "execution_count": 7,
     "metadata": {},
     "output_type": "execute_result"
    }
   ],
   "source": [
    "df[['Instance Memory']]"
   ]
  },
  {
   "cell_type": "code",
   "execution_count": 8,
   "id": "08d6d51a",
   "metadata": {},
   "outputs": [
    {
     "data": {
      "application/vnd.microsoft.datawrangler.viewer.v0+json": {
       "columns": [
        {
         "name": "index",
         "rawType": "int64",
         "type": "integer"
        },
        {
         "name": "API Name",
         "rawType": "object",
         "type": "string"
        },
        {
         "name": "Instance Memory",
         "rawType": "int64",
         "type": "integer"
        }
       ],
       "ref": "b795be06-18ae-4d3e-a221-774bea446e3b",
       "rows": [
        [
         "0",
         "r6idn.12xlarge",
         "384"
        ],
        [
         "1",
         "c5n.18xlarge",
         "192"
        ],
        [
         "2",
         "r6id.8xlarge",
         "256"
        ],
        [
         "3",
         "i3en.12xlarge",
         "384"
        ],
        [
         "4",
         "m6in.xlarge",
         "16"
        ]
       ],
       "shape": {
        "columns": 2,
        "rows": 5
       }
      },
      "text/html": [
       "<div>\n",
       "<style scoped>\n",
       "    .dataframe tbody tr th:only-of-type {\n",
       "        vertical-align: middle;\n",
       "    }\n",
       "\n",
       "    .dataframe tbody tr th {\n",
       "        vertical-align: top;\n",
       "    }\n",
       "\n",
       "    .dataframe thead th {\n",
       "        text-align: right;\n",
       "    }\n",
       "</style>\n",
       "<table border=\"1\" class=\"dataframe\">\n",
       "  <thead>\n",
       "    <tr style=\"text-align: right;\">\n",
       "      <th></th>\n",
       "      <th>API Name</th>\n",
       "      <th>Instance Memory</th>\n",
       "    </tr>\n",
       "  </thead>\n",
       "  <tbody>\n",
       "    <tr>\n",
       "      <th>0</th>\n",
       "      <td>r6idn.12xlarge</td>\n",
       "      <td>384</td>\n",
       "    </tr>\n",
       "    <tr>\n",
       "      <th>1</th>\n",
       "      <td>c5n.18xlarge</td>\n",
       "      <td>192</td>\n",
       "    </tr>\n",
       "    <tr>\n",
       "      <th>2</th>\n",
       "      <td>r6id.8xlarge</td>\n",
       "      <td>256</td>\n",
       "    </tr>\n",
       "    <tr>\n",
       "      <th>3</th>\n",
       "      <td>i3en.12xlarge</td>\n",
       "      <td>384</td>\n",
       "    </tr>\n",
       "    <tr>\n",
       "      <th>4</th>\n",
       "      <td>m6in.xlarge</td>\n",
       "      <td>16</td>\n",
       "    </tr>\n",
       "  </tbody>\n",
       "</table>\n",
       "</div>"
      ],
      "text/plain": [
       "         API Name  Instance Memory\n",
       "0  r6idn.12xlarge              384\n",
       "1    c5n.18xlarge              192\n",
       "2    r6id.8xlarge              256\n",
       "3   i3en.12xlarge              384\n",
       "4     m6in.xlarge               16"
      ]
     },
     "execution_count": 8,
     "metadata": {},
     "output_type": "execute_result"
    }
   ],
   "source": [
    "# Remove ' GiB' and convert to integer\n",
    "df[\"Instance Memory\"] = df[\"Instance Memory\"].str.replace(\" GiB\", \"\").astype(float).astype(int)\n",
    "\n",
    "# Optional: view result\n",
    "df[[\"API Name\", \"Instance Memory\"]].head()\n"
   ]
  },
  {
   "cell_type": "code",
   "execution_count": 10,
   "id": "1b5708a0",
   "metadata": {},
   "outputs": [
    {
     "data": {
      "application/vnd.microsoft.datawrangler.viewer.v0+json": {
       "columns": [
        {
         "name": "index",
         "rawType": "int64",
         "type": "integer"
        },
        {
         "name": "API Name",
         "rawType": "object",
         "type": "string"
        },
        {
         "name": "vCPUs",
         "rawType": "int64",
         "type": "integer"
        }
       ],
       "ref": "6f6e918e-33a3-457c-8f3a-4c7590b53494",
       "rows": [
        [
         "0",
         "r6idn.12xlarge",
         "48"
        ],
        [
         "1",
         "c5n.18xlarge",
         "72"
        ],
        [
         "2",
         "r6id.8xlarge",
         "32"
        ],
        [
         "3",
         "i3en.12xlarge",
         "48"
        ],
        [
         "4",
         "m6in.xlarge",
         "4"
        ]
       ],
       "shape": {
        "columns": 2,
        "rows": 5
       }
      },
      "text/html": [
       "<div>\n",
       "<style scoped>\n",
       "    .dataframe tbody tr th:only-of-type {\n",
       "        vertical-align: middle;\n",
       "    }\n",
       "\n",
       "    .dataframe tbody tr th {\n",
       "        vertical-align: top;\n",
       "    }\n",
       "\n",
       "    .dataframe thead th {\n",
       "        text-align: right;\n",
       "    }\n",
       "</style>\n",
       "<table border=\"1\" class=\"dataframe\">\n",
       "  <thead>\n",
       "    <tr style=\"text-align: right;\">\n",
       "      <th></th>\n",
       "      <th>API Name</th>\n",
       "      <th>vCPUs</th>\n",
       "    </tr>\n",
       "  </thead>\n",
       "  <tbody>\n",
       "    <tr>\n",
       "      <th>0</th>\n",
       "      <td>r6idn.12xlarge</td>\n",
       "      <td>48</td>\n",
       "    </tr>\n",
       "    <tr>\n",
       "      <th>1</th>\n",
       "      <td>c5n.18xlarge</td>\n",
       "      <td>72</td>\n",
       "    </tr>\n",
       "    <tr>\n",
       "      <th>2</th>\n",
       "      <td>r6id.8xlarge</td>\n",
       "      <td>32</td>\n",
       "    </tr>\n",
       "    <tr>\n",
       "      <th>3</th>\n",
       "      <td>i3en.12xlarge</td>\n",
       "      <td>48</td>\n",
       "    </tr>\n",
       "    <tr>\n",
       "      <th>4</th>\n",
       "      <td>m6in.xlarge</td>\n",
       "      <td>4</td>\n",
       "    </tr>\n",
       "  </tbody>\n",
       "</table>\n",
       "</div>"
      ],
      "text/plain": [
       "         API Name  vCPUs\n",
       "0  r6idn.12xlarge     48\n",
       "1    c5n.18xlarge     72\n",
       "2    r6id.8xlarge     32\n",
       "3   i3en.12xlarge     48\n",
       "4     m6in.xlarge      4"
      ]
     },
     "execution_count": 10,
     "metadata": {},
     "output_type": "execute_result"
    }
   ],
   "source": [
    "# Extract the first numeric value from the vCPUs column\n",
    "df[\"vCPUs\"] = df[\"vCPUs\"].str.extract(r'(\\d+)', expand=False).astype(int)\n",
    "\n",
    "# Optional: check result\n",
    "df[[\"API Name\", \"vCPUs\"]].head()\n"
   ]
  },
  {
   "cell_type": "code",
   "execution_count": 12,
   "id": "abff09d9",
   "metadata": {},
   "outputs": [
    {
     "data": {
      "application/vnd.microsoft.datawrangler.viewer.v0+json": {
       "columns": [
        {
         "name": "index",
         "rawType": "int64",
         "type": "integer"
        },
        {
         "name": "API Name",
         "rawType": "object",
         "type": "string"
        },
        {
         "name": "On Demand",
         "rawType": "float64",
         "type": "float"
        }
       ],
       "ref": "65431b16-cdc0-4b4d-aaba-d92fd52fa967",
       "rows": [
        [
         "0",
         "r6idn.12xlarge",
         "4.6894"
        ],
        [
         "1",
         "c5n.18xlarge",
         "3.888"
        ],
        [
         "2",
         "r6id.8xlarge",
         "2.4192"
        ],
        [
         "3",
         "i3en.12xlarge",
         "5.424"
        ],
        [
         "4",
         "m6in.xlarge",
         "0.2785"
        ]
       ],
       "shape": {
        "columns": 2,
        "rows": 5
       }
      },
      "text/html": [
       "<div>\n",
       "<style scoped>\n",
       "    .dataframe tbody tr th:only-of-type {\n",
       "        vertical-align: middle;\n",
       "    }\n",
       "\n",
       "    .dataframe tbody tr th {\n",
       "        vertical-align: top;\n",
       "    }\n",
       "\n",
       "    .dataframe thead th {\n",
       "        text-align: right;\n",
       "    }\n",
       "</style>\n",
       "<table border=\"1\" class=\"dataframe\">\n",
       "  <thead>\n",
       "    <tr style=\"text-align: right;\">\n",
       "      <th></th>\n",
       "      <th>API Name</th>\n",
       "      <th>On Demand</th>\n",
       "    </tr>\n",
       "  </thead>\n",
       "  <tbody>\n",
       "    <tr>\n",
       "      <th>0</th>\n",
       "      <td>r6idn.12xlarge</td>\n",
       "      <td>4.6894</td>\n",
       "    </tr>\n",
       "    <tr>\n",
       "      <th>1</th>\n",
       "      <td>c5n.18xlarge</td>\n",
       "      <td>3.8880</td>\n",
       "    </tr>\n",
       "    <tr>\n",
       "      <th>2</th>\n",
       "      <td>r6id.8xlarge</td>\n",
       "      <td>2.4192</td>\n",
       "    </tr>\n",
       "    <tr>\n",
       "      <th>3</th>\n",
       "      <td>i3en.12xlarge</td>\n",
       "      <td>5.4240</td>\n",
       "    </tr>\n",
       "    <tr>\n",
       "      <th>4</th>\n",
       "      <td>m6in.xlarge</td>\n",
       "      <td>0.2785</td>\n",
       "    </tr>\n",
       "  </tbody>\n",
       "</table>\n",
       "</div>"
      ],
      "text/plain": [
       "         API Name  On Demand\n",
       "0  r6idn.12xlarge     4.6894\n",
       "1    c5n.18xlarge     3.8880\n",
       "2    r6id.8xlarge     2.4192\n",
       "3   i3en.12xlarge     5.4240\n",
       "4     m6in.xlarge     0.2785"
      ]
     },
     "execution_count": 12,
     "metadata": {},
     "output_type": "execute_result"
    }
   ],
   "source": [
    "# Remove $ and non-numeric characters, then convert to float\n",
    "df[\"On Demand\"] = df[\"On Demand\"].str.extract(r'\\$?([\\d.]+)', expand=False).astype(float)\n",
    "\n",
    "# Optional: view cleaned result\n",
    "df[[\"API Name\", \"On Demand\"]].head()\n",
    "\n",
    "\n"
   ]
  },
  {
   "cell_type": "code",
   "execution_count": 13,
   "id": "978ecabd",
   "metadata": {},
   "outputs": [
    {
     "data": {
      "application/vnd.microsoft.datawrangler.viewer.v0+json": {
       "columns": [
        {
         "name": "index",
         "rawType": "int64",
         "type": "integer"
        },
        {
         "name": "Name",
         "rawType": "object",
         "type": "string"
        },
        {
         "name": "API Name",
         "rawType": "object",
         "type": "string"
        },
        {
         "name": "Instance Memory",
         "rawType": "int64",
         "type": "integer"
        },
        {
         "name": "vCPUs",
         "rawType": "int64",
         "type": "integer"
        },
        {
         "name": "Instance Storage",
         "rawType": "object",
         "type": "string"
        },
        {
         "name": "Network Performance",
         "rawType": "object",
         "type": "string"
        },
        {
         "name": "On Demand",
         "rawType": "float64",
         "type": "float"
        }
       ],
       "ref": "1af0c206-706e-4814-82b2-e7f234f87b5d",
       "rows": [
        [
         "0",
         "R6IDN 12xlarge",
         "r6idn.12xlarge",
         "384",
         "48",
         "2850 GB (2×1425 GB NVMe SSD)",
         "75 Gigabit",
         "4.6894"
        ],
        [
         "1",
         "C5N 18xlarge",
         "c5n.18xlarge",
         "192",
         "72",
         "EBS only",
         "100 Gigabit",
         "3.888"
        ],
        [
         "2",
         "R6ID Eight Extra Large",
         "r6id.8xlarge",
         "256",
         "32",
         "1900 GB NVMe SSD",
         "12.5 Gigabit",
         "2.4192"
        ],
        [
         "3",
         "I3EN 12xlarge",
         "i3en.12xlarge",
         "384",
         "48",
         "30000 GB (4×7500 GB NVMe SSD)",
         "50 Gigabit",
         "5.424"
        ],
        [
         "4",
         "M6IN Extra Large",
         "m6in.xlarge",
         "16",
         "4",
         "EBS only",
         "Up to 30 Gigabit",
         "0.2785"
        ]
       ],
       "shape": {
        "columns": 7,
        "rows": 5
       }
      },
      "text/html": [
       "<div>\n",
       "<style scoped>\n",
       "    .dataframe tbody tr th:only-of-type {\n",
       "        vertical-align: middle;\n",
       "    }\n",
       "\n",
       "    .dataframe tbody tr th {\n",
       "        vertical-align: top;\n",
       "    }\n",
       "\n",
       "    .dataframe thead th {\n",
       "        text-align: right;\n",
       "    }\n",
       "</style>\n",
       "<table border=\"1\" class=\"dataframe\">\n",
       "  <thead>\n",
       "    <tr style=\"text-align: right;\">\n",
       "      <th></th>\n",
       "      <th>Name</th>\n",
       "      <th>API Name</th>\n",
       "      <th>Instance Memory</th>\n",
       "      <th>vCPUs</th>\n",
       "      <th>Instance Storage</th>\n",
       "      <th>Network Performance</th>\n",
       "      <th>On Demand</th>\n",
       "    </tr>\n",
       "  </thead>\n",
       "  <tbody>\n",
       "    <tr>\n",
       "      <th>0</th>\n",
       "      <td>R6IDN 12xlarge</td>\n",
       "      <td>r6idn.12xlarge</td>\n",
       "      <td>384</td>\n",
       "      <td>48</td>\n",
       "      <td>2850 GB (2×1425 GB NVMe SSD)</td>\n",
       "      <td>75 Gigabit</td>\n",
       "      <td>4.6894</td>\n",
       "    </tr>\n",
       "    <tr>\n",
       "      <th>1</th>\n",
       "      <td>C5N 18xlarge</td>\n",
       "      <td>c5n.18xlarge</td>\n",
       "      <td>192</td>\n",
       "      <td>72</td>\n",
       "      <td>EBS only</td>\n",
       "      <td>100 Gigabit</td>\n",
       "      <td>3.8880</td>\n",
       "    </tr>\n",
       "    <tr>\n",
       "      <th>2</th>\n",
       "      <td>R6ID Eight Extra Large</td>\n",
       "      <td>r6id.8xlarge</td>\n",
       "      <td>256</td>\n",
       "      <td>32</td>\n",
       "      <td>1900 GB NVMe SSD</td>\n",
       "      <td>12.5 Gigabit</td>\n",
       "      <td>2.4192</td>\n",
       "    </tr>\n",
       "    <tr>\n",
       "      <th>3</th>\n",
       "      <td>I3EN 12xlarge</td>\n",
       "      <td>i3en.12xlarge</td>\n",
       "      <td>384</td>\n",
       "      <td>48</td>\n",
       "      <td>30000 GB (4×7500 GB NVMe SSD)</td>\n",
       "      <td>50 Gigabit</td>\n",
       "      <td>5.4240</td>\n",
       "    </tr>\n",
       "    <tr>\n",
       "      <th>4</th>\n",
       "      <td>M6IN Extra Large</td>\n",
       "      <td>m6in.xlarge</td>\n",
       "      <td>16</td>\n",
       "      <td>4</td>\n",
       "      <td>EBS only</td>\n",
       "      <td>Up to 30 Gigabit</td>\n",
       "      <td>0.2785</td>\n",
       "    </tr>\n",
       "  </tbody>\n",
       "</table>\n",
       "</div>"
      ],
      "text/plain": [
       "                     Name        API Name  Instance Memory  vCPUs  \\\n",
       "0          R6IDN 12xlarge  r6idn.12xlarge              384     48   \n",
       "1            C5N 18xlarge    c5n.18xlarge              192     72   \n",
       "2  R6ID Eight Extra Large    r6id.8xlarge              256     32   \n",
       "3           I3EN 12xlarge   i3en.12xlarge              384     48   \n",
       "4        M6IN Extra Large     m6in.xlarge               16      4   \n",
       "\n",
       "                Instance Storage Network Performance  On Demand  \n",
       "0   2850 GB (2×1425 GB NVMe SSD)          75 Gigabit     4.6894  \n",
       "1                       EBS only         100 Gigabit     3.8880  \n",
       "2               1900 GB NVMe SSD        12.5 Gigabit     2.4192  \n",
       "3  30000 GB (4×7500 GB NVMe SSD)          50 Gigabit     5.4240  \n",
       "4                       EBS only    Up to 30 Gigabit     0.2785  "
      ]
     },
     "execution_count": 13,
     "metadata": {},
     "output_type": "execute_result"
    }
   ],
   "source": [
    "df.head()"
   ]
  },
  {
   "cell_type": "code",
   "execution_count": 14,
   "id": "19cbb92e",
   "metadata": {},
   "outputs": [],
   "source": [
    "df.to_csv(\"cleaned_vm_data.csv\", index=False)\n"
   ]
  }
 ],
 "metadata": {
  "kernelspec": {
   "display_name": ".venv",
   "language": "python",
   "name": "python3"
  },
  "language_info": {
   "codemirror_mode": {
    "name": "ipython",
    "version": 3
   },
   "file_extension": ".py",
   "mimetype": "text/x-python",
   "name": "python",
   "nbconvert_exporter": "python",
   "pygments_lexer": "ipython3",
   "version": "3.13.3"
  }
 },
 "nbformat": 4,
 "nbformat_minor": 5
}
